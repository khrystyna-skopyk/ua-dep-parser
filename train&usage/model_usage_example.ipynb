{
 "cells": [
  {
   "cell_type": "code",
   "execution_count": 12,
   "id": "1bd4617d",
   "metadata": {},
   "outputs": [],
   "source": [
    "import stanza\n",
    "from stanza.models.common.pretrain import Pretrain"
   ]
  },
  {
   "cell_type": "markdown",
   "id": "c7710760",
   "metadata": {},
   "source": [
    "Let's create special file from your word embeddings. This code will create a new file which we need to use later."
   ]
  },
  {
   "cell_type": "code",
   "execution_count": 13,
   "id": "a581b456",
   "metadata": {},
   "outputs": [],
   "source": [
    "path_to_your_embeddings = '/Users/oleksandry/stanza/stanza-train/stanza/extern_data/wordvec/word2vec/Ukrainian/uk.vectors.xz'\n",
    "path_to_pretrained_embeddings = '/Users/oleksandry/word_embeddings.pt'\n",
    "pt = Pretrain(path_to_pretrained_vectors, path_to_your_embeddings)\n",
    "\n",
    "pt.load()"
   ]
  },
  {
   "cell_type": "markdown",
   "id": "1187db83",
   "metadata": {},
   "source": [
    "Next, specify pathes to all processors we want to use. In our case - pos, lemma, mwt, tokenize, depparse. Usually, if you trained using our scripts, they should be in saved_models/{processor_name} in your stanza dir. "
   ]
  },
  {
   "cell_type": "code",
   "execution_count": 14,
   "id": "148f9cf8",
   "metadata": {},
   "outputs": [
    {
     "name": "stderr",
     "output_type": "stream",
     "text": [
      "2021-05-17 17:06:23 WARNING: Language uk package default expects mwt, which has been added\n",
      "2021-05-17 17:06:23 INFO: Loading these models for language: uk (Ukrainian):\n",
      "=======================================\n",
      "| Processor | Package                 |\n",
      "---------------------------------------\n",
      "| tokenize  | /Users/ole...kenizer.pt |\n",
      "| mwt       | /Users/ole...xpander.pt |\n",
      "| pos       | /Users/ole..._tagger.pt |\n",
      "| lemma     | /Users/ole...matizer.pt |\n",
      "| depparse  | /Users/ole..._parser.pt |\n",
      "=======================================\n",
      "\n",
      "2021-05-17 17:06:23 INFO: Use device: cpu\n",
      "2021-05-17 17:06:23 INFO: Loading: tokenize\n",
      "2021-05-17 17:06:23 INFO: Loading: mwt\n",
      "2021-05-17 17:06:23 INFO: Loading: pos\n",
      "2021-05-17 17:06:25 INFO: Loading: lemma\n",
      "2021-05-17 17:06:25 INFO: Loading: depparse\n",
      "2021-05-17 17:06:27 INFO: Done loading processors!\n"
     ]
    },
    {
     "name": "stdout",
     "output_type": "stream",
     "text": [
      "[\n",
      "  [\n",
      "    {\n",
      "      \"id\": 1,\n",
      "      \"text\": \"Це\",\n",
      "      \"lemma\": \"це\",\n",
      "      \"upos\": \"NOUN\",\n",
      "      \"xpos\": \"Ncmsdn\",\n",
      "      \"feats\": \"Animacy=Inan|Case=Dat|Gender=Masc|Number=Sing\",\n",
      "      \"head\": 3,\n",
      "      \"deprel\": \"obj\",\n",
      "      \"misc\": \"start_char=0|end_char=2\"\n",
      "    },\n",
      "    {\n",
      "      \"id\": 2,\n",
      "      \"text\": \"мало\",\n",
      "      \"lemma\": \"мало\",\n",
      "      \"upos\": \"NOUN\",\n",
      "      \"xpos\": \"Ncmsvy\",\n",
      "      \"feats\": \"Animacy=Anim|Case=Nom|Gender=Masc|Number=Sing\",\n",
      "      \"head\": 3,\n",
      "      \"deprel\": \"case\",\n",
      "      \"misc\": \"start_char=3|end_char=7\"\n",
      "    },\n",
      "    {\n",
      "      \"id\": 3,\n",
      "      \"text\": \"мало\",\n",
      "      \"lemma\": \"мало\",\n",
      "      \"upos\": \"NOUN\",\n",
      "      \"xpos\": \"Ncmsny\",\n",
      "      \"feats\": \"Animacy=Anim|Case=Voc|Gender=Masc|Number=Sing\",\n",
      "      \"head\": 0,\n",
      "      \"deprel\": \"root\",\n",
      "      \"misc\": \"start_char=8|end_char=12\"\n",
      "    },\n",
      "    {\n",
      "      \"id\": 4,\n",
      "      \"text\": \"значення\",\n",
      "      \"lemma\": \"значення\",\n",
      "      \"upos\": \"VERB\",\n",
      "      \"xpos\": \"Vmeis-s\",\n",
      "      \"feats\": \"Aspect=Perf|Mood=Ind|Number=Sing|Tense=Past|VerbForm=Fin\",\n",
      "      \"head\": 3,\n",
      "      \"deprel\": \"advmod\",\n",
      "      \"misc\": \"start_char=13|end_char=21\"\n",
      "    }\n",
      "  ]\n",
      "]\n"
     ]
    }
   ],
   "source": [
    "config = {\n",
    "\t'processors': 'pos, lemma, mwt, tokenize, depparse', # Comma-separated list of processors to use\n",
    "\t'lang': 'uk', # Language code for the language to build the Pipeline in\n",
    "\t'depparse_model_path': '/Users/oleksandry/stanza/stanza-train/stanza/saved_models/depparse/uk_iu_parser.pt',\n",
    "    'pos_pretrain_path': path_to_pretrained_embeddings,\n",
    "\t'depparse_pretrain_path': path_to_pretrained_embeddings,\n",
    "    'tokenize_model_path': '/Users/oleksandry/stanza/stanza-train/stanza/saved_models/tokenize/uk_iu_tokenizer.pt',\n",
    "    #'tokenize_pretokenized': True, # Use pretokenized text as input and disable tokenization,\n",
    "    'pos_model_path': '/Users/oleksandry/stanza/stanza-train/stanza/saved_models/pos/uk_iu_tagger.pt',\n",
    "    'lemma_model_path': '/Users/oleksandry/stanza/stanza-train/stanza/saved_models/lemma/uk_iu_lemmatizer.pt',\n",
    "    'mwt_model_path': '/Users/oleksandry/stanza/stanza-train/stanza/saved_models/mwt/uk_iu_mwt_expander.pt'\n",
    "}\n",
    "nlp = stanza.Pipeline(**config) # Initialize the pipeline using our configuration\n",
    "doc = nlp(\"Це мало мало значення\") # Run the pipeline on the pretokenized input text\n",
    "print(doc) # Look at the result"
   ]
  },
  {
   "cell_type": "code",
   "execution_count": null,
   "id": "39a591fd",
   "metadata": {},
   "outputs": [],
   "source": []
  }
 ],
 "metadata": {
  "kernelspec": {
   "display_name": "Python 3",
   "language": "python",
   "name": "python3"
  },
  "language_info": {
   "codemirror_mode": {
    "name": "ipython",
    "version": 3
   },
   "file_extension": ".py",
   "mimetype": "text/x-python",
   "name": "python",
   "nbconvert_exporter": "python",
   "pygments_lexer": "ipython3",
   "version": "3.9.1"
  }
 },
 "nbformat": 4,
 "nbformat_minor": 5
}
